{
 "cells": [
  {
   "cell_type": "code",
   "execution_count": 1,
   "metadata": {},
   "outputs": [
    {
     "data": {
      "text/plain": [
       "<module 'data_functions' from '/Users/jsyme/Documents/Projects/git_jbus/dmdu_scalable_computing_2022/crdm_project/python/data_functions.py'>"
      ]
     },
     "execution_count": 1,
     "metadata": {},
     "output_type": "execute_result"
    }
   ],
   "source": [
    "import data_functions as dat\n",
    "import importlib\n",
    "import itertools\n",
    "import math\n",
    "import matplotlib.pyplot as plt\n",
    "import numpy as np\n",
    "import os, os.path\n",
    "import pandas as pd\n",
    "import pyDOE2 as pyd\n",
    "import ri_water_model as wm\n",
    "import scipy.optimize as sco\n",
    "import setup_analysis as sa\n",
    "import time\n",
    "\n",
    "importlib.reload(dat)\n"
   ]
  },
  {
   "cell_type": "code",
   "execution_count": null,
   "metadata": {},
   "outputs": [],
   "source": [
    "# read in input data\n",
    "df_model_data = pd.read_csv(sa.fp_csv_baseline_trajectory_model_input_data)\n",
    "df_climate_deltas = pd.read_csv(sa.fp_csv_climate_deltas)\n",
    "df_climate_deltas_annual = pd.read_csv(sa.fp_csv_climate_deltas_annual)"
   ]
  },
  {
   "cell_type": "code",
   "execution_count": null,
   "metadata": {},
   "outputs": [],
   "source": [
    "# set some climate info\n",
    "range_delta_base = list(range(2011, 2021))\n",
    "range_delta_fut = list(range(2046, 2056))\n",
    "\n",
    "\n",
    "df1 = dat.apply_delta_factor(\n",
    "    df_model_data[[\"year\", \"month\", \"precipitation_mm\"]], \n",
    "    0.0,\n",
    "    range_delta_base, \n",
    "    range_delta_fut, \n",
    "    2022,\n",
    "    \"precipitation_mm\"\n",
    ")\n",
    "\n"
   ]
  }
 ],
 "metadata": {
  "kernelspec": {
   "display_name": "Python 3",
   "language": "python",
   "name": "python3"
  },
  "language_info": {
   "codemirror_mode": {
    "name": "ipython",
    "version": 3
   },
   "file_extension": ".py",
   "mimetype": "text/x-python",
   "name": "python",
   "nbconvert_exporter": "python",
   "pygments_lexer": "ipython3",
   "version": "3.8.5"
  }
 },
 "nbformat": 4,
 "nbformat_minor": 4
}
