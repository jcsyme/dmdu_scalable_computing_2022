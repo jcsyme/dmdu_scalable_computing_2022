{
 "cells": [
  {
   "cell_type": "code",
   "execution_count": 114,
   "metadata": {},
   "outputs": [
    {
     "data": {
      "text/plain": [
       "<module 'setup_analysis' from '/Users/jsyme/Documents/Projects/git_jbus/dmdu_scalable_computing_2022/crdm_project/python/setup_analysis.py'>"
      ]
     },
     "execution_count": 114,
     "metadata": {},
     "output_type": "execute_result"
    }
   ],
   "source": [
    "import data_functions as dat\n",
    "import importlib\n",
    "import itertools\n",
    "import math\n",
    "import matplotlib.pyplot as plt\n",
    "import numpy as np\n",
    "import os, os.path\n",
    "import pandas as pd\n",
    "import pyDOE as pyd\n",
    "import scipy.optimize as sco\n",
    "import setup_analysis as sa\n",
    "import time\n",
    "import ri_water_model as wm\n",
    "importlib.reload(dat)\n",
    "importlib.reload(sa)"
   ]
  },
  {
   "cell_type": "markdown",
   "metadata": {},
   "source": [
    "###  First, let's read in key data sets and print off some information for our analysis."
   ]
  },
  {
   "cell_type": "code",
   "execution_count": 109,
   "metadata": {},
   "outputs": [
    {
     "name": "stdout",
     "output_type": "stream",
     "text": [
      "Analysis Information from setup_analysis.py\n",
      "\n",
      "\tanalysis_name:\tcrdm_project_2021091\n",
      "\tn_lhs:\t1000\n"
     ]
    }
   ],
   "source": [
    "# read in input data\n",
    "df_model_data = pd.read_csv(sa.fp_csv_baseline_trajectory_model_input_data)\n",
    "df_climate_deltas_annual = pd.read_csv(sa.fp_csv_climate_deltas_annual)\n",
    "\n",
    "# show a record of info\n",
    "print(f\"Analysis Information from setup_analysis.py\\n\\n\\tanalysis_name:\\t{sa.analysis_name}\\n\\tn_lhs:\\t{sa.n_lhs}\")\n"
   ]
  },
  {
   "cell_type": "markdown",
   "metadata": {},
   "source": [
    "###  Next, let's load the strategy table"
   ]
  },
  {
   "cell_type": "code",
   "execution_count": 124,
   "metadata": {},
   "outputs": [],
   "source": [
    "# get the strategies and attribute table from the excel file\n",
    "df_attr_strategy, df_strategies = dat.get_strategy_table(sa.fp_xlsx_strategy_inputs)\n"
   ]
  },
  {
   "cell_type": "markdown",
   "metadata": {},
   "source": [
    "###  Add the LHS samples"
   ]
  },
  {
   "cell_type": "code",
   "execution_count": null,
   "metadata": {},
   "outputs": [],
   "source": [
    "\n",
    "# setup ranges for lhs\n",
    "dict_ranges = {\n",
    "    \"flow_m3s\": [\n",
    "        0.95*min(df_climate_deltas_annual[\"delta_q_2055_annual\"]), \n",
    "        1.05*max(df_climate_deltas_annual[\"delta_q_2055_annual\"])\n",
    "    ],\n",
    "    \"precipitation_mm\": [\n",
    "        0.95*min(df_climate_deltas_annual[\"delta_p_2055_annual\"]), \n",
    "        1.05*max(df_climate_deltas_annual[\"delta_p_2055_annual\"])\n",
    "    ],\n",
    "    \"population\": [0.8, 1.3],\n",
    "    \"demand_municipal_m3p\": [1, 1],\n",
    "    \"demand_agricultural_m3km2\": [1, 1],\n",
    "    \"area_ag_km2\": [0.8, 1.5]\n",
    "}\n",
    "# set future 0 values - different because we'll apply deltas differently\n",
    "dict_f0_vals = {\n",
    "    \"flow_m3s\": 0,\n",
    "    \"precipitation_mm\": 0,\n",
    "    \"population\": 1,\n",
    "    \"demand_municipal_m3p\": 1,\n",
    "    \"demand_agricultural_m3km2\": 1,\n",
    "    \"area_ag_km2\": 1\n",
    "}\n",
    "# build lhs samples\n",
    "df_lhs = dat.generate_lhs_samples(sa.n_lhs, dict_ranges, dict_f0_vals)"
   ]
  },
  {
   "cell_type": "markdown",
   "metadata": {},
   "source": [
    "###  Apply the climate deltas"
   ]
  },
  {
   "cell_type": "code",
   "execution_count": null,
   "metadata": {},
   "outputs": [],
   "source": [
    "\n",
    "##  Climate Deltas\n",
    "\n",
    "t0 = time.time()\n",
    "dict_climate_factor_delta_field_map =  {\n",
    "    \"flow_m3s\": \"flow_m3s\",\n",
    "    \"precipitation_mm\": \"precipitation_mm\"\n",
    "}\n",
    "df_climate_deltas_by_future = dat.get_climate_factor_deltas(\n",
    "    df_model_data,\n",
    "    df_lhs,\n",
    "    dict_climate_factor_delta_field_map,\n",
    "    sa.range_delta_base, \n",
    "    sa.range_delta_fut, \n",
    "    max(sa.model_historical_years)\n",
    ")\n",
    "t1 = time.time()\n",
    "t_del = np.round(t1 - t0, 2)\n",
    "print(f\"Time to generate {sa.n_lhs} climate deltas: {t_del} seconds\")\n",
    "\n"
   ]
  },
  {
   "cell_type": "markdown",
   "metadata": {},
   "source": [
    "###  Let's add the other uncertainty deltas (treated differently)"
   ]
  },
  {
   "cell_type": "code",
   "execution_count": 133,
   "metadata": {},
   "outputs": [],
   "source": [
    "# get time period information\n",
    "t0 = max(df_model_data[df_model_data[\"year\"] == min(sa.model_projection_years) - 1][\"time_period\"])\n",
    "t1 = max(df_model_data[\"time_period\"])\n",
    "\n",
    "# run the function\n",
    "df_other_deltas_by_future = dat.get_linear_delta_trajectories_by_future(\n",
    "    df_model_data,\n",
    "    df_lhs[[x for x in df_lhs.columns if x not in dict_climate_factor_delta_field_map.keys()]],\n",
    "    t0,\n",
    "    t1\n",
    ")\n",
    "# merge back in some data\n",
    "df_other_deltas_by_future = pd.merge(df_other_deltas_by_future, df_model_data[[\"time_period\", \"year\", \"month\"]])\n",
    "\n"
   ]
  },
  {
   "cell_type": "markdown",
   "metadata": {},
   "source": [
    "###  Build a unified futures database"
   ]
  },
  {
   "cell_type": "code",
   "execution_count": 150,
   "metadata": {},
   "outputs": [],
   "source": [
    "df_futures = pd.merge(df_climate_deltas_by_future, df_other_deltas_by_future)\n",
    "# some column sorting\n",
    "fields_ind = [\"future_id\", \"time_period\", \"year\", \"month\"]\n",
    "fields_dat = sorted([x for x in df_futures.columns if x not in fields_ind])\n",
    "df_futures = df_futures[fields_ind + fields_dat]"
   ]
  },
  {
   "cell_type": "markdown",
   "metadata": {},
   "source": [
    "###  Create a primary key, which we can use for an experimental design"
   ]
  },
  {
   "cell_type": "code",
   "execution_count": 151,
   "metadata": {},
   "outputs": [],
   "source": [
    "# create a primary key\n",
    "fields_index = [\"strategy_id\", \"future_id\"]\n",
    "field_primary_key = \"primary_id\"\n",
    "df_attribute_primary = pd.DataFrame(\n",
    "    list(itertools.product(\n",
    "        list(df_attr_strategy[\"strategy_id\"]), \n",
    "        list(df_lhs[\"future_id\"])\n",
    "    )), \n",
    "    columns = fields_index\n",
    ")\n",
    "df_attribute_primary[field_primary_key] = range(len(df_attribute_primary))\n",
    "df_attribute_primary = df_attribute_primary[[field_primary_key] + fields_index]"
   ]
  },
  {
   "cell_type": "markdown",
   "metadata": {},
   "source": [
    "###  Run the model under default conditions"
   ]
  },
  {
   "cell_type": "code",
   "execution_count": 143,
   "metadata": {},
   "outputs": [
    {
     "name": "stdout",
     "output_type": "stream",
     "text": [
      "RI model done in 7.57 seconds.\n"
     ]
    }
   ],
   "source": [
    "df_out = wm.ri_water_resources_model(df_model_data)"
   ]
  },
  {
   "cell_type": "markdown",
   "metadata": {},
   "source": [
    "###  Define a function to run the model for a single scenario"
   ]
  },
  {
   "cell_type": "code",
   "execution_count": 159,
   "metadata": {},
   "outputs": [],
   "source": [
    "# function here\n",
    "def run_model_by_scenario(\n",
    "    row_scenario: pd.DataFrame,\n",
    "    df_futures: pd.DataFrame,\n",
    "    df_strategies: pd.DataFrame,\n",
    "    field_primary_key: str = \"primary_id\",\n",
    "    field_future: str = \"future_id\", \n",
    "    field_strategy: str = \"strategy_id\"\n",
    "):\n",
    "    # get ids\n",
    "    id_future = int(row_scenario[field_future])\n",
    "    id_primary = int(row_scenario[field_primary_key])\n",
    "    id_strategy = int(row_scenario[field_strategy])\n",
    "    \n",
    "    # get input data\n",
    "    df_future = df_futures[df_futures[field_future] == id_future].copy()\n",
    "    df_future.drop([field_future], axis = 1, inplace = True)\n",
    "    df_strategy = df_strategies[df_strategies[field_strategy] == id_strategy].copy()\n",
    "    df_strategy.drop([field_strategy], axis = 1, inplace = True)\n",
    "    df_input_data = pd.merge(df_future, df_strategy)\n",
    "    \n",
    "    # model output\n",
    "    df_out = wm.ri_water_resources_model(df_input_data)\n",
    "    fields_ord = list(df_out.columns)\n",
    "    df_out[field_primary_key] = id_primary\n",
    "    df_out = df_out[[field_primary_key] + fields_ord]\n",
    "    \n",
    "    return df_out\n",
    "\n"
   ]
  },
  {
   "cell_type": "markdown",
   "metadata": {},
   "source": [
    "###  Try running the model for a selected primary_id"
   ]
  },
  {
   "cell_type": "code",
   "execution_count": null,
   "metadata": {},
   "outputs": [],
   "source": [
    "id_primary = 474\n",
    "run_model_by_scenario(\n",
    "    df_attribute_primary[df_attribute_primary[field_primary_key] == id_primary], \n",
    "    df_futures,\n",
    "    df_strategies\n",
    ")"
   ]
  }
 ],
 "metadata": {
  "kernelspec": {
   "display_name": "Python 3",
   "language": "python",
   "name": "python3"
  },
  "language_info": {
   "codemirror_mode": {
    "name": "ipython",
    "version": 3
   },
   "file_extension": ".py",
   "mimetype": "text/x-python",
   "name": "python",
   "nbconvert_exporter": "python",
   "pygments_lexer": "ipython3",
   "version": "3.8.5"
  }
 },
 "nbformat": 4,
 "nbformat_minor": 4
}
