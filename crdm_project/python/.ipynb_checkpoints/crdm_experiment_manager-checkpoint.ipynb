{
 "cells": [
  {
   "cell_type": "code",
   "execution_count": 1,
   "metadata": {},
   "outputs": [
    {
     "data": {
      "text/plain": [
       "<module 'setup_analysis' from '/Users/jsyme/Documents/Projects/git_jbus/dmdu_scalable_computing_2022/crdm_project/python/setup_analysis.py'>"
      ]
     },
     "execution_count": 1,
     "metadata": {},
     "output_type": "execute_result"
    }
   ],
   "source": [
    "import data_functions as dat\n",
    "import importlib\n",
    "import itertools\n",
    "import math\n",
    "import matplotlib.pyplot as plt\n",
    "#from metric_functions import *\n",
    "import multiprocessing as mp\n",
    "import numpy as np\n",
    "import os, os.path\n",
    "import pandas as pd\n",
    "import pyDOE2 as pyd\n",
    "import scipy.optimize as sco\n",
    "import setup_analysis as sa\n",
    "import time\n",
    "import ri_water_model as rm\n",
    "importlib.reload(dat)\n",
    "importlib.reload(sa)\n"
   ]
  },
  {
   "cell_type": "code",
   "execution_count": null,
   "metadata": {},
   "outputs": [],
   "source": []
  },
  {
   "cell_type": "markdown",
   "metadata": {},
   "source": [
    "###  First, let's read in key data sets and print off some information for our analysis."
   ]
  },
  {
   "cell_type": "code",
   "execution_count": 2,
   "metadata": {},
   "outputs": [
    {
     "name": "stdout",
     "output_type": "stream",
     "text": [
      "Analysis Information from setup_analysis.py\n",
      "\n",
      "\tanalysis_name:\tcrdm_project_2021091\n",
      "\tn_lhs:\t10\n"
     ]
    }
   ],
   "source": [
    "# read in input data\n",
    "df_model_data = pd.read_csv(sa.fp_csv_baseline_trajectory_model_input_data)\n",
    "df_climate_deltas_annual = pd.read_csv(sa.fp_csv_climate_deltas_annual)\n",
    "\n",
    "# show a record of info\n",
    "print(f\"Analysis Information from setup_analysis.py\\n\\n\\tanalysis_name:\\t{sa.analysis_name}\\n\\tn_lhs:\\t{sa.n_lhs}\")\n"
   ]
  },
  {
   "cell_type": "markdown",
   "metadata": {},
   "source": [
    "###  Next, let's load the strategy table"
   ]
  },
  {
   "cell_type": "code",
   "execution_count": 3,
   "metadata": {},
   "outputs": [],
   "source": [
    "# get the strategies and attribute table from the excel file\n",
    "df_attr_strategy, df_strategies = dat.get_strategy_table(sa.fp_xlsx_strategy_inputs, field_strategy_id = sa.field_key_strategy)\n"
   ]
  },
  {
   "cell_type": "code",
   "execution_count": null,
   "metadata": {},
   "outputs": [],
   "source": []
  },
  {
   "cell_type": "markdown",
   "metadata": {},
   "source": [
    "###  Add the LHS samples"
   ]
  },
  {
   "cell_type": "code",
   "execution_count": 4,
   "metadata": {},
   "outputs": [],
   "source": [
    "\n",
    "# setup ranges for lhs\n",
    "dict_ranges = {\n",
    "    \"flow_m3s\": [\n",
    "        0.95*min(df_climate_deltas_annual[\"delta_q_2055_annual\"]), \n",
    "        1.05*max(df_climate_deltas_annual[\"delta_q_2055_annual\"])\n",
    "    ],\n",
    "    \"precipitation_mm\": [\n",
    "        0.95*min(df_climate_deltas_annual[\"delta_p_2055_annual\"]), \n",
    "        1.05*max(df_climate_deltas_annual[\"delta_p_2055_annual\"])\n",
    "    ],\n",
    "    \"population\": [0.8, 1.3],\n",
    "    \"demand_municipal_m3p\": [0.8, 1.2],\n",
    "    \"demand_agricultural_m3km2\": [0.9, 1.1],\n",
    "    \"area_ag_km2\": [0.8, 1.5]\n",
    "}\n",
    "# set future 0 values - different because we'll apply deltas differently\n",
    "dict_f0_vals = {\n",
    "    \"flow_m3s\": 0,\n",
    "    \"precipitation_mm\": 0,\n",
    "    \"population\": 1,\n",
    "    \"demand_municipal_m3p\": 1,\n",
    "    \"demand_agricultural_m3km2\": 1,\n",
    "    \"area_ag_km2\": 1\n",
    "}\n",
    "# build lhs samples\n",
    "df_lhs = dat.generate_lhs_samples(sa.n_lhs, dict_ranges, dict_f0_vals, sa.field_key_future)"
   ]
  },
  {
   "cell_type": "code",
   "execution_count": null,
   "metadata": {},
   "outputs": [],
   "source": []
  },
  {
   "cell_type": "markdown",
   "metadata": {},
   "source": [
    "###  Apply the climate deltas"
   ]
  },
  {
   "cell_type": "code",
   "execution_count": 5,
   "metadata": {},
   "outputs": [
    {
     "name": "stdout",
     "output_type": "stream",
     "text": [
      "Time to generate 10 climate deltas: 0.23 seconds\n"
     ]
    }
   ],
   "source": [
    "\n",
    "##  Climate Deltas\n",
    "\n",
    "t0 = time.time()\n",
    "dict_climate_factor_delta_field_map =  {\n",
    "    \"flow_m3s\": \"flow_m3s\",\n",
    "    \"precipitation_mm\": \"precipitation_mm\"\n",
    "}\n",
    "df_climate_deltas_by_future = dat.get_climate_factor_deltas(\n",
    "    df_model_data,\n",
    "    df_lhs,\n",
    "    dict_climate_factor_delta_field_map,\n",
    "    sa.range_delta_base, \n",
    "    sa.range_delta_fut, \n",
    "    max(sa.model_historical_years),\n",
    "    field_future_id = sa.field_key_future\n",
    ")\n",
    "t1 = time.time()\n",
    "t_del = np.round(t1 - t0, 2)\n",
    "print(f\"Time to generate {sa.n_lhs} climate deltas: {t_del} seconds\")\n",
    "\n"
   ]
  },
  {
   "cell_type": "markdown",
   "metadata": {},
   "source": [
    "###  Let's add the other uncertainty deltas (treated differently)"
   ]
  },
  {
   "cell_type": "code",
   "execution_count": 6,
   "metadata": {},
   "outputs": [],
   "source": [
    "# get time period information\n",
    "t0 = max(df_model_data[df_model_data[\"year\"] == min(sa.model_projection_years) - 1][\"time_period\"])\n",
    "t1 = max(df_model_data[\"time_period\"])\n",
    "\n",
    "# run the function\n",
    "df_other_deltas_by_future = dat.get_linear_delta_trajectories_by_future(\n",
    "    df_model_data,\n",
    "    df_lhs[[x for x in df_lhs.columns if x not in dict_climate_factor_delta_field_map.keys()]],\n",
    "    t0,\n",
    "    t1,\n",
    "    field_future_id = sa.field_key_future\n",
    ")\n",
    "# merge back in some data\n",
    "df_other_deltas_by_future = pd.merge(df_other_deltas_by_future, df_model_data[[\"time_period\", \"year\", \"month\"]])\n",
    "\n"
   ]
  },
  {
   "cell_type": "code",
   "execution_count": null,
   "metadata": {},
   "outputs": [],
   "source": []
  },
  {
   "cell_type": "markdown",
   "metadata": {},
   "source": [
    "###  Build a unified futures database"
   ]
  },
  {
   "cell_type": "code",
   "execution_count": 7,
   "metadata": {},
   "outputs": [],
   "source": [
    "df_futures = pd.merge(df_climate_deltas_by_future, df_other_deltas_by_future)\n",
    "# some column sorting\n",
    "fields_ind = [\"future_id\", \"time_period\", \"year\", \"month\"]\n",
    "fields_dat = sorted([x for x in df_futures.columns if x not in fields_ind])\n",
    "df_futures = df_futures[fields_ind + fields_dat]"
   ]
  },
  {
   "cell_type": "code",
   "execution_count": null,
   "metadata": {},
   "outputs": [],
   "source": []
  },
  {
   "cell_type": "markdown",
   "metadata": {},
   "source": [
    "###  Create a primary key, which we can use for an experimental design"
   ]
  },
  {
   "cell_type": "code",
   "execution_count": 8,
   "metadata": {},
   "outputs": [],
   "source": [
    "def build_primary_attribute(\n",
    "    df_fut: pd.DataFrame,\n",
    "    df_strat: pd.DataFrame,\n",
    "    field_key_future: str = \"future_id\",\n",
    "    field_key_primary: str = \"primary_id\",\n",
    "    field_key_strategy: str = \"strategy_id\"\n",
    ") -> pd.DataFrame:\n",
    "    # create a primary key\n",
    "    fields_index = [field_key_strategy, field_key_future]\n",
    "    field_primary_key = field_key_primary\n",
    "    df_attribute_primary = pd.DataFrame(\n",
    "        list(itertools.product(\n",
    "            list(df_strat[field_key_strategy]), \n",
    "            list(df_fut[field_key_future])\n",
    "        )), \n",
    "        columns = fields_index\n",
    "    )\n",
    "    df_attribute_primary[field_key_primary] = range(len(df_attribute_primary))\n",
    "    df_attribute_primary = df_attribute_primary[[field_key_primary] + fields_index]\n",
    "    \n",
    "    return df_attribute_primary\n",
    "\n",
    "df_attribute_primary = build_primary_attribute(\n",
    "    df_lhs, \n",
    "    df_attr_strategy, \n",
    "    sa.field_key_future, \n",
    "    sa.field_key_primary, \n",
    "    sa.field_key_strategy\n",
    ")\n",
    "\n"
   ]
  },
  {
   "cell_type": "code",
   "execution_count": null,
   "metadata": {},
   "outputs": [],
   "source": []
  },
  {
   "cell_type": "markdown",
   "metadata": {},
   "source": [
    "###  Run the model under default conditions"
   ]
  },
  {
   "cell_type": "code",
   "execution_count": 9,
   "metadata": {},
   "outputs": [
    {
     "name": "stdout",
     "output_type": "stream",
     "text": [
      "RI model done in 1.19 seconds.\n"
     ]
    }
   ],
   "source": [
    "df_out = rm.ri_water_resources_model(df_model_data)"
   ]
  },
  {
   "cell_type": "markdown",
   "metadata": {},
   "source": [
    "###  Define a function to run the model for a single scenario"
   ]
  },
  {
   "cell_type": "code",
   "execution_count": 10,
   "metadata": {},
   "outputs": [],
   "source": [
    "# function here\n",
    "def get_model_data_from_primary_key(\n",
    "    id_primary: int,\n",
    "    df_attribute_primary: pd.DataFrame,\n",
    "    df_futures: pd.DataFrame,\n",
    "    df_strategies: pd.DataFrame,\n",
    "    field_primary_key: str = \"primary_id\",\n",
    "    field_future: str = \"future_id\", \n",
    "    field_strategy: str = \"strategy_id\"\n",
    "):\n",
    "    row_scenario = df_attribute_primary[df_attribute_primary[field_primary_key] == id_primary]\n",
    "    # get ids\n",
    "    id_future = int(row_scenario[field_future])\n",
    "    id_primary = int(row_scenario[field_primary_key])\n",
    "    id_strategy = int(row_scenario[field_strategy])\n",
    "\n",
    "    # get input data\n",
    "    df_future = df_futures[df_futures[field_future] == id_future].copy()\n",
    "    df_future.drop([field_future], axis = 1, inplace = True)\n",
    "    df_strategy = df_strategies[df_strategies[field_strategy] == id_strategy].copy()\n",
    "    df_strategy.drop([field_strategy], axis = 1, inplace = True)\n",
    "    df_input_data = pd.merge(df_future, df_strategy)\n",
    "    \n",
    "    return df_input_data\n",
    "\n",
    "\n",
    "def run_model_by_primary_key(\n",
    "    id_primary: int,\n",
    "    df_attribute_primary: pd.DataFrame,\n",
    "    df_futures: pd.DataFrame,\n",
    "    df_strategies: pd.DataFrame,\n",
    "    field_primary_key: str = \"primary_id\",\n",
    "    field_future: str = \"future_id\", \n",
    "    field_strategy: str = \"strategy_id\"\n",
    "):\n",
    "\n",
    "    df_input_data = get_model_data_from_primary_key(\n",
    "        id_primary,\n",
    "        df_attribute_primary,\n",
    "        df_futures,\n",
    "        df_strategies,\n",
    "        field_primary_key,\n",
    "        field_future, \n",
    "        field_strategy\n",
    "    )\n",
    "    # model output\n",
    "    df_out = rm.ri_water_resources_model(df_input_data)\n",
    "    fields_ord = list(df_out.columns)\n",
    "    df_out[field_primary_key] = id_primary\n",
    "    df_out = df_out[[field_primary_key] + fields_ord]\n",
    "\n",
    "    return df_out\n",
    "\n"
   ]
  },
  {
   "cell_type": "code",
   "execution_count": null,
   "metadata": {},
   "outputs": [],
   "source": []
  },
  {
   "cell_type": "code",
   "execution_count": null,
   "metadata": {},
   "outputs": [],
   "source": []
  },
  {
   "cell_type": "markdown",
   "metadata": {},
   "source": [
    "###  Try running the model for a selected primary_id"
   ]
  },
  {
   "cell_type": "code",
   "execution_count": 11,
   "metadata": {},
   "outputs": [
    {
     "name": "stdout",
     "output_type": "stream",
     "text": [
      "RI model done in 1.13 seconds.\n"
     ]
    }
   ],
   "source": [
    "id_primary = 10\n",
    "df_run = run_model_by_primary_key(\n",
    "    id_primary,\n",
    "    df_attribute_primary,\n",
    "    df_futures,\n",
    "    df_strategies\n",
    ")"
   ]
  },
  {
   "cell_type": "code",
   "execution_count": 16,
   "metadata": {},
   "outputs": [
    {
     "data": {
      "image/png": "[encoded data removed]",
      "text/plain": [
       "<Figure size 720x360 with 1 Axes>"
      ]
     },
     "metadata": {
      "needs_background": "light"
     },
     "output_type": "display_data"
    }
   ],
   "source": [
    "# 474\n",
    "n = len(df_run)\n",
    "flds_explore = [x for x in df_run.columns if (x not in [\"year\", \"month\"])]\n",
    "flds_explore = [\"u_2_proportion\"]\n",
    "for i in flds_explore:\n",
    "    x = np.array(df_run[\"year\"]) + (np.array(df_run[\"month\"]) - 0.5)/12\n",
    "    y = np.array(df_run[i].iloc[0:n])\n",
    "    \n",
    "    fig, ax = plt.subplots(figsize = (10, 5))\n",
    "    ax.set_xlabel(\"Date\")\n",
    "    ax.set_ylabel(str(i))\n",
    "    ax.plot(x, y)\n",
    "    plt.show()\n",
    "    "
   ]
  },
  {
   "cell_type": "markdown",
   "metadata": {},
   "source": [
    "###  Let's select some scenarios to run"
   ]
  },
  {
   "cell_type": "code",
   "execution_count": 12,
   "metadata": {},
   "outputs": [],
   "source": [
    "all_primaries = list(df_attribute_primary[\n",
    "    df_attribute_primary[\"strategy_id\"].isin([0, 1])&\n",
    "    df_attribute_primary[\"future_id\"].isin([0, 481, 903])\n",
    "][\"primary_id\"])\n"
   ]
  },
  {
   "cell_type": "code",
   "execution_count": 14,
   "metadata": {},
   "outputs": [],
   "source": [
    "\n",
    "global get_mean_reservoir\n",
    "def get_mean_reservoir(\n",
    "    df_cur: pd.DataFrame,\n",
    "    field_key_primary: str = \"primary_id\",\n",
    "    field_metric: str = \"mean_reservoir_storage_last_ten_years_m3\",\n",
    "    field_storage: str = \"reservoir_storage_m3\",\n",
    "    field_year: str = \"year\",\n",
    "    last_n_years: int = 10\n",
    ") -> pd.DataFrame:\n",
    "\n",
    "    y1 = max(df_cur[field_year])\n",
    "    y0 = y1 - last_n_years + 1\n",
    "    years_keep = range(y0, y1 + 1)\n",
    "\n",
    "    mean_out = np.mean(df_cur[df_cur[field_year].isin(years_keep)][field_storage])\n",
    "    df_metric = pd.DataFrame({field_key_primary: [int(df_cur[field_key_primary].loc[0])], field_metric: [mean_out]})\n",
    "\n",
    "    return df_metric\n",
    "\n",
    "global get_unacceptable_unmet_demand\n",
    "def get_unacceptable_unmet_demand(\n",
    "    df_cur: pd.DataFrame,\n",
    "    field_key_primary: str = \"primary_id\",\n",
    "    field_measure: str = \"u_2_proportion\",\n",
    "    field_metric_exceed: str = \"exceed_threshes\",\n",
    "    field_metric_prop: str = \"proportion_unacceptable_unmet_demand\",\n",
    "    field_month: str = \"month\",\n",
    "    field_year: str = \"year\",\n",
    "    thresh_count: int = 6,\n",
    "    thresh_demand: float = 0.2\n",
    ") -> pd.DataFrame:\n",
    "    \n",
    "    vec_exceed_thresh_demand = [int(x > thresh_demand) for x in list(df_cur[field_measure])]\n",
    "    \n",
    "    field_pass_through = \"exceed_thresh_demand\"\n",
    "    df_return = df_cur[[field_year, field_month, field_measure]].copy()\n",
    "    df_return[field_pass_through] = vec_exceed_thresh_demand\n",
    "    \n",
    "    df_return = df_return.groupby([field_year]).agg({field_year: \"first\", field_pass_through: \"sum\"})\n",
    "    df_return.reset_index(drop = True, inplace = True)\n",
    "    \n",
    "    vec_flag = [int(x >= thresh_count) for x in list(df_return[field_pass_through])]\n",
    "    df_return[field_metric_exceed] = vec_flag\n",
    "    \n",
    "    metric_frac_vuln = np.sum(df_return[field_metric_exceed])/len(df_return)\n",
    "    df_metric = pd.DataFrame({field_key_primary: [int(df_cur[field_key_primary].loc[0])], field_metric_prop: [metric_frac_vuln]})\n",
    "    \n",
    "    return df_return[[field_year, field_metric_exceed]], df_metric"
   ]
  },
  {
   "cell_type": "code",
   "execution_count": 15,
   "metadata": {},
   "outputs": [
    {
     "name": "stdout",
     "output_type": "stream",
     "text": [
      "RI model done in 1.16 seconds.\n",
      "RI model done in 1.21 seconds.\n",
      "Serial run complete in 2.419968843460083 seconds.\n"
     ]
    }
   ],
   "source": [
    "###########################\n",
    "#    SERIAL 'FOR' LOOP    #\n",
    "###########################\n",
    "\n",
    "# initialize output values\n",
    "vec_out = []\n",
    "\n",
    "# set timer baseline\n",
    "t0_serial = time.time()\n",
    "\n",
    "df_out = []\n",
    "# simple loop over\n",
    "for id_primary in enumerate(all_primaries):\n",
    "    \n",
    "    ind, id_primary = id_primary\n",
    "    \n",
    "    ##  raw model output\n",
    "    df_cur = run_model_by_primary_key(\n",
    "        id_primary,\n",
    "        df_attribute_primary,\n",
    "        df_futures,\n",
    "        df_strategies\n",
    "    )\n",
    "\n",
    "    \n",
    "    ########################################################\n",
    "    #    INSERT RELEVANT POST-PROCESSING FUNCTIONS HERE    #\n",
    "    ########################################################\n",
    "\n",
    "    df_metric_1 = get_mean_reservoir(\n",
    "        df_cur,\n",
    "        sa.field_key_primary,\n",
    "        \"mean_reservoir_storage_last_ten_years_m3\",\n",
    "        \"reservoir_storage_m3\",\n",
    "        \"year\",\n",
    "        10\n",
    "    )\n",
    "    df_year_unacceptable, df_metric_2 = get_unacceptable_unmet_demand(\n",
    "        df_cur,\n",
    "        field_key_primary = sa.field_key_primary,\n",
    "        field_measure = \"u_2_proportion\",\n",
    "        field_metric_exceed = \"exceed_threshes\",\n",
    "        field_metric_prop = \"proportion_unacceptable_unmet_demand\",\n",
    "        field_month = \"month\",\n",
    "        field_year = \"year\",\n",
    "        thresh_count = 6,\n",
    "        thresh_demand = 0.2\n",
    "    )\n",
    "    \n",
    "    df_metrics_summary = pd.merge(df_metric_1, df_metric_2)\n",
    "    \n",
    "    if len(df_out) == 0:\n",
    "        df_out = [df_metrics_summary for x in all_primaries]\n",
    "    else:\n",
    "        df_out[ind] = df_metrics_summary[df_out[0].columns]\n",
    "    \n",
    "df_out = pd.concat(df_out, axis = 0).reset_index(drop = True)\n",
    "\n",
    "t1_serial = time.time()\n",
    "t_elapse_serial = t1_serial - t0_serial\n",
    "\n",
    "print(\"Serial run complete in %s seconds.\"%t_elapse_serial)\n",
    "\n"
   ]
  },
  {
   "cell_type": "code",
   "execution_count": 19,
   "metadata": {},
   "outputs": [
    {
     "data": {
      "text/html": [
       "<div>\n",
       "<style scoped>\n",
       "    .dataframe tbody tr th:only-of-type {\n",
       "        vertical-align: middle;\n",
       "    }\n",
       "\n",
       "    .dataframe tbody tr th {\n",
       "        vertical-align: top;\n",
       "    }\n",
       "\n",
       "    .dataframe thead th {\n",
       "        text-align: right;\n",
       "    }\n",
       "</style>\n",
       "<table border=\"1\" class=\"dataframe\">\n",
       "  <thead>\n",
       "    <tr style=\"text-align: right;\">\n",
       "      <th></th>\n",
       "      <th>future_id</th>\n",
       "      <th>area_ag_km2</th>\n",
       "      <th>demand_agricultural_m3km2</th>\n",
       "      <th>demand_municipal_m3p</th>\n",
       "      <th>flow_m3s</th>\n",
       "      <th>population</th>\n",
       "      <th>precipitation_mm</th>\n",
       "      <th>primary_id</th>\n",
       "      <th>strategy_id</th>\n",
       "      <th>mean_reservoir_storage_last_ten_years_m3</th>\n",
       "      <th>proportion_unacceptable_unmet_demand</th>\n",
       "    </tr>\n",
       "  </thead>\n",
       "  <tbody>\n",
       "    <tr>\n",
       "      <th>0</th>\n",
       "      <td>0</td>\n",
       "      <td>1.0</td>\n",
       "      <td>1.0</td>\n",
       "      <td>1.0</td>\n",
       "      <td>0.0</td>\n",
       "      <td>1.0</td>\n",
       "      <td>0.0</td>\n",
       "      <td>0</td>\n",
       "      <td>0</td>\n",
       "      <td>1.278909e+08</td>\n",
       "      <td>0.377778</td>\n",
       "    </tr>\n",
       "    <tr>\n",
       "      <th>1</th>\n",
       "      <td>0</td>\n",
       "      <td>1.0</td>\n",
       "      <td>1.0</td>\n",
       "      <td>1.0</td>\n",
       "      <td>0.0</td>\n",
       "      <td>1.0</td>\n",
       "      <td>0.0</td>\n",
       "      <td>11</td>\n",
       "      <td>1</td>\n",
       "      <td>1.308107e+08</td>\n",
       "      <td>0.000000</td>\n",
       "    </tr>\n",
       "  </tbody>\n",
       "</table>\n",
       "</div>"
      ],
      "text/plain": [
       "   future_id  area_ag_km2  demand_agricultural_m3km2  demand_municipal_m3p  \\\n",
       "0          0          1.0                        1.0                   1.0   \n",
       "1          0          1.0                        1.0                   1.0   \n",
       "\n",
       "   flow_m3s  population  precipitation_mm  primary_id  strategy_id  \\\n",
       "0       0.0         1.0               0.0           0            0   \n",
       "1       0.0         1.0               0.0          11            1   \n",
       "\n",
       "   mean_reservoir_storage_last_ten_years_m3  \\\n",
       "0                              1.278909e+08   \n",
       "1                              1.308107e+08   \n",
       "\n",
       "   proportion_unacceptable_unmet_demand  \n",
       "0                              0.377778  \n",
       "1                              0.000000  "
      ]
     },
     "execution_count": 19,
     "metadata": {},
     "output_type": "execute_result"
    }
   ],
   "source": [
    "df_1 = pd.merge(df_attribute_primary, df_out)\n",
    "df_1 = pd.merge(df_lhs, df_1)\n",
    "df_1"
   ]
  },
  {
   "cell_type": "code",
   "execution_count": null,
   "metadata": {},
   "outputs": [],
   "source": []
  },
  {
   "cell_type": "code",
   "execution_count": 18,
   "metadata": {},
   "outputs": [
    {
     "name": "stdout",
     "output_type": "stream",
     "text": [
      "Asynchronous parallelization across 12 cores reduced computational time by 4.87%.\n"
     ]
    }
   ],
   "source": [
    "###############################\n",
    "#    ASYNCHRONOUS PARALLEL    #\n",
    "###############################\n",
    "\n",
    "t0_par_async = time.time()\n",
    "\n",
    "#\n",
    "# SOLUTION TO GET APPLY_ASYNC TO WORK WITH JUPYTER LAB: FUNCTION HAS TO BE PLACED IN MODULE AND IMPORTED: https://stackoverflow.com/questions/47313732/jupyter-notebook-never-finishes-processing-using-multiprocessing-python-3\n",
    "# https://towardsdatascience.com/asynchronous-parallel-programming-in-python-with-multiprocessing-a3fc882b4023\n",
    "#\n",
    "\n",
    "\n",
    "# initialize output vector/array (pre-allocate memory)\n",
    "vec_df_out_ri = []\n",
    "\n",
    "def get_result(result):\n",
    "    \n",
    "    global vec_df_out_ri\n",
    "    vec_df_out_ri.append(result)\n",
    "    \n",
    "def get_result0(result):\n",
    "    \n",
    "    id_primary, df_ret = result\n",
    "    \n",
    "    global get_mean_reservoir\n",
    "    global get_unacceptable_unmet_demand\n",
    "    \n",
    "    df_metric_1 = get_mean_reservoir(\n",
    "        df_ret,\n",
    "        \"primary_id\",\n",
    "        \"mean_reservoir_storage_last_ten_years_m3\",\n",
    "        \"reservoir_storage_m3\",\n",
    "        \"year\",\n",
    "        10\n",
    "    )\n",
    "    \n",
    "    df_year_unacceptable, df_metric_2 = get_unacceptable_unmet_demand(\n",
    "        df_ret,\n",
    "        field_key_primary = \"primary_id\",\n",
    "        field_measure = \"u_2_proportion\",\n",
    "        field_metric_exceed = \"exceed_threshes\",\n",
    "        field_metric_prop = \"proportion_unacceptable_unmet_demand\",\n",
    "        field_month = \"month\",\n",
    "        field_year = \"year\",\n",
    "        thresh_count = 6,\n",
    "        thresh_demand = 0.2\n",
    "    )\n",
    "    \n",
    "    fields_ord = list(df_ret.columns)\n",
    "    df_ret[field_key_primary] = id_primary\n",
    "    df_ret = df_ret[[field_key_primary] + fields_ord]\n",
    "    \n",
    "    vec_df_out_ri.append(df_result)\n",
    "\n",
    "\n",
    "    \n",
    "# check to ensure current module is \"__main__\"; this is necessary in scripts that use multiprocessing. Without it, the processing framework will run the entirety of the original script in parallel\n",
    "if __name__ == \"__main__\":\n",
    "    \n",
    "    global get_mean_reservoir\n",
    "    global get_unacceptable_unmet_demand\n",
    "\n",
    "    # start the MP pool for asynchronous parallelization\n",
    "    pool = mp.Pool(int(mp.cpu_count()/2))\n",
    "\n",
    "    # apply the function; note: if the function only takes one argument (e.g., f(x)), make sure the args is args = (x, ) - that extra comma is important\n",
    "    for id_primary in all_primaries:\n",
    "        # function here\n",
    "        \n",
    "        df_input_data = get_model_data_from_primary_key(\n",
    "            id_primary,\n",
    "            df_attribute_primary,\n",
    "            df_futures,\n",
    "            df_strategies,\n",
    "            sa.field_key_primary,\n",
    "            sa.field_key_future, \n",
    "            sa.field_key_strategy\n",
    "        )\n",
    "\n",
    "\n",
    "        pool.apply_async(\n",
    "            # target function\n",
    "            rm.ri_water_resources_model,\n",
    "            # function arguments \n",
    "            args = (\n",
    "                df_input_data,\n",
    "                rm.md_dict_initial_states, \n",
    "                rm.md_dict_parameters, \n",
    "                rm.md_dict_default_levers,\n",
    "                id_primary\n",
    "            ),\n",
    "            callback = get_result\n",
    "        )\n",
    "\n",
    "     \n",
    "    pool.close()\n",
    "    pool.join()\n",
    "    t1_par_async = time.time()\n",
    "\n",
    "    # \n",
    "    t_elapse_par_async = t1_par_async - t0_par_async\n",
    "\n",
    "# print the reduction in time\n",
    "print(\"Asynchronous parallelization across %s cores reduced computational time by %s%s.\"%(mp.cpu_count(), round(100*(1 - t_elapse_par_async/t_elapse_serial), 2), \"%\"))\n",
    "\n"
   ]
  },
  {
   "cell_type": "code",
   "execution_count": null,
   "metadata": {},
   "outputs": [],
   "source": []
  },
  {
   "cell_type": "code",
   "execution_count": null,
   "metadata": {},
   "outputs": [],
   "source": []
  },
  {
   "cell_type": "code",
   "execution_count": null,
   "metadata": {},
   "outputs": [],
   "source": []
  }
 ],
 "metadata": {
  "kernelspec": {
   "display_name": "Python 3",
   "language": "python",
   "name": "python3"
  },
  "language_info": {
   "codemirror_mode": {
    "name": "ipython",
    "version": 3
   },
   "file_extension": ".py",
   "mimetype": "text/x-python",
   "name": "python",
   "nbconvert_exporter": "python",
   "pygments_lexer": "ipython3",
   "version": "3.8.5"
  }
 },
 "nbformat": 4,
 "nbformat_minor": 4
}
