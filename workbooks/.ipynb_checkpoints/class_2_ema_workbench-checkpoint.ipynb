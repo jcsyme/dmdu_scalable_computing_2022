{
 "cells": [
  {
   "cell_type": "code",
   "execution_count": 1,
   "metadata": {},
   "outputs": [
    {
     "name": "stderr",
     "output_type": "stream",
     "text": [
      "/Users/jsyme/anaconda3/lib/python3.8/site-packages/ema_workbench/em_framework/optimization.py:48: ImportWarning: platypus based optimization not available\n",
      "  warnings.warn(\"platypus based optimization not available\", ImportWarning)\n"
     ]
    }
   ],
   "source": [
    "#\n",
    "# tutorial taken from https://emaworkbench.readthedocs.io/en/latest/basic_tutorial.html and modified slightly\n",
    "#\n",
    "import ema_workbench as em"
   ]
  },
  {
   "cell_type": "code",
   "execution_count": 10,
   "metadata": {},
   "outputs": [],
   "source": [
    "# define a simple model\n",
    "\n",
    "# REALLY THE \"R\" IN XLRM \n",
    "def supply_balance(demand_per_person = None, population = None, industrial_demand = None, supply = None):\n",
    "    \n",
    "    # total demand\n",
    "    dem_total = demand_per_person*population + industrial_demand\n",
    "    \n",
    "    # set up a return dictionary\n",
    "    dict_ret = {\n",
    "        \"demand\": dem_total,\n",
    "        \"net_balance\": supply - dem_total\n",
    "    }\n",
    "    \n",
    "    return dict_ret\n",
    "    "
   ]
  },
  {
   "cell_type": "code",
   "execution_count": null,
   "metadata": {},
   "outputs": [],
   "source": []
  },
  {
   "cell_type": "code",
   "execution_count": 12,
   "metadata": {},
   "outputs": [],
   "source": [
    "# create a model object (code object to nest the R)\n",
    "model = em.Model('simpleModel', function = supply_balance)\n",
    "\n",
    "# (X) specify exogenous uncertainties (along with ranges)\n",
    "model.uncertainties = [\n",
    "    em.RealParameter(\"demand_per_person\", 120, 130),\n",
    "    em.RealParameter(\"population\", 5, 8),\n",
    "    em.RealParameter(\"industrial_demand\", 200, 500),\n",
    "    em.RealParameter(\"supply\", 500, 1400)\n",
    "]\n",
    "\n",
    "# (M) specify outcomes\n",
    "model.outcomes = [em.ScalarOutcome(\"demand\"), em.ScalarOutcome(\"net_balance\")]\n",
    "\n",
    "# run some results\n",
    "results = em.perform_experiments(model, 100)"
   ]
  },
  {
   "cell_type": "code",
   "execution_count": null,
   "metadata": {},
   "outputs": [],
   "source": []
  },
  {
   "cell_type": "code",
   "execution_count": null,
   "metadata": {},
   "outputs": [],
   "source": []
  }
 ],
 "metadata": {
  "kernelspec": {
   "display_name": "Python 3",
   "language": "python",
   "name": "python3"
  },
  "language_info": {
   "codemirror_mode": {
    "name": "ipython",
    "version": 3
   },
   "file_extension": ".py",
   "mimetype": "text/x-python",
   "name": "python",
   "nbconvert_exporter": "python",
   "pygments_lexer": "ipython3",
   "version": "3.8.5"
  }
 },
 "nbformat": 4,
 "nbformat_minor": 4
}
