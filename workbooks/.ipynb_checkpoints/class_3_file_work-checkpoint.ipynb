{
 "cells": [
  {
   "cell_type": "code",
   "execution_count": 61,
   "metadata": {},
   "outputs": [],
   "source": [
    "import numpy as np\n",
    "\n",
    "\n",
    "fp_read = # SET READ FILE PATH HERE\n",
    "fp_write = # SET WRITE FILE PATH HERE\n",
    "\n",
    "# some random numbers to write out\n",
    "rands = np.random.rand(15)\n"
   ]
  },
  {
   "cell_type": "markdown",
   "metadata": {},
   "source": [
    "##  different ways to read a file"
   ]
  },
  {
   "cell_type": "code",
   "execution_count": 56,
   "metadata": {},
   "outputs": [],
   "source": [
    "# read as a string\n",
    "with open(fp_read, \"r\") as file:\n",
    "    str_lns = file.read()\n",
    "# can turn it into a list of strings (each line) using .split()\n",
    "list_lns = str_lns.split(\"\\n\")"
   ]
  },
  {
   "cell_type": "code",
   "execution_count": 58,
   "metadata": {},
   "outputs": [],
   "source": [
    "# read all lines at once\n",
    "with open(fp_read, \"r\") as file:\n",
    "    vec_lns = file.readlines()\n"
   ]
  },
  {
   "cell_type": "code",
   "execution_count": null,
   "metadata": {},
   "outputs": [],
   "source": [
    "# count lines using loop\n",
    "with open(fp_read, \"r\") as file:\n",
    "    ln = file.readline()\n",
    "    i = 0\n",
    "    while ln != \"\":\n",
    "        i += 1\n",
    "        print(\"Read %s lines\"%(i))\n",
    "        ln = file.readline()\n",
    "        \n"
   ]
  },
  {
   "cell_type": "markdown",
   "metadata": {},
   "source": [
    "##  different ways to write a file"
   ]
  },
  {
   "cell_type": "code",
   "execution_count": null,
   "metadata": {},
   "outputs": [],
   "source": [
    "# write all lines at once (use w+ to create/write; it will overwrite a file that exists)\n",
    "with open(fp_write, \"w+\") as file:\n",
    "    file.writelines([str(x) for x in rands])\n"
   ]
  },
  {
   "cell_type": "code",
   "execution_count": null,
   "metadata": {},
   "outputs": [],
   "source": [
    "# write as a string with index (remember the new line character)\n",
    "with open(fp_write, \"w+\") as file:\n",
    "    for i in range(len(rands)):\n",
    "        file.write(\"%s,%s\\n\"%(i, rands[i]))\n"
   ]
  },
  {
   "cell_type": "code",
   "execution_count": 60,
   "metadata": {},
   "outputs": [],
   "source": [
    "# write tabs that depend on i\n",
    "with open(fp_write, \"w+\") as file:\n",
    "    for i in range(len(rands)):\n",
    "        file.write(\"\\t\"*i + \"%s,%s\\n\"%(i, rands[i]))\n"
   ]
  },
  {
   "cell_type": "code",
   "execution_count": null,
   "metadata": {},
   "outputs": [],
   "source": [
    "#\n",
    "# note: if you don't use \"with\", that's OK, just remember to close the file stream\n",
    "# file = open(fp, type)\n",
    "# ** operattions heere **\n",
    "# file.close()\n",
    "#"
   ]
  }
 ],
 "metadata": {
  "kernelspec": {
   "display_name": "Python 3",
   "language": "python",
   "name": "python3"
  },
  "language_info": {
   "codemirror_mode": {
    "name": "ipython",
    "version": 3
   },
   "file_extension": ".py",
   "mimetype": "text/x-python",
   "name": "python",
   "nbconvert_exporter": "python",
   "pygments_lexer": "ipython3",
   "version": "3.8.5"
  }
 },
 "nbformat": 4,
 "nbformat_minor": 4
}
